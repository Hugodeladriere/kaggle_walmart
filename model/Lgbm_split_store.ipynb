{
  "nbformat": 4,
  "nbformat_minor": 0,
  "metadata": {
    "colab": {
      "name": "Lgbm_store_1.ipynb",
      "provenance": []
    },
    "kernelspec": {
      "name": "python3",
      "display_name": "Python 3"
    }
  },
  "cells": [
    {
      "cell_type": "code",
      "metadata": {
        "id": "XF-3W8ywE8ni",
        "colab_type": "code",
        "colab": {}
      },
      "source": [
        "import gc\n",
        "import numpy as np\n",
        "from numpy.fft import *\n",
        "import pandas as pd\n",
        "import lightgbm as lgb\n",
        "import matplotlib.pyplot as plt\n",
        "from  datetime import datetime, timedelta, date\n",
        "\n",
        "from torchvision import datasets, models, transforms\n",
        "\n",
        "\n",
        "\n",
        "from sklearn import preprocessing, metrics\n",
        "from sklearn.preprocessing import LabelEncoder\n",
        "\n"
      ],
      "execution_count": null,
      "outputs": []
    },
    {
      "cell_type": "code",
      "metadata": {
        "id": "AacpBuifQ3Sc",
        "colab_type": "code",
        "colab": {
          "base_uri": "https://localhost:8080/",
          "height": 122
        },
        "outputId": "d4959af9-0023-4cbc-8bbb-032fcc3b54cb"
      },
      "source": [
        "from google.colab import drive\n",
        "drive.mount('/content/drive')"
      ],
      "execution_count": null,
      "outputs": [
        {
          "output_type": "stream",
          "text": [
            "Go to this URL in a browser: https://accounts.google.com/o/oauth2/auth?client_id=947318989803-6bn6qk8qdgf4n4g3pfee6491hc0brc4i.apps.googleusercontent.com&redirect_uri=urn%3aietf%3awg%3aoauth%3a2.0%3aoob&response_type=code&scope=email%20https%3a%2f%2fwww.googleapis.com%2fauth%2fdocs.test%20https%3a%2f%2fwww.googleapis.com%2fauth%2fdrive%20https%3a%2f%2fwww.googleapis.com%2fauth%2fdrive.photos.readonly%20https%3a%2f%2fwww.googleapis.com%2fauth%2fpeopleapi.readonly\n",
            "\n",
            "Enter your authorization code:\n",
            "··········\n",
            "Mounted at /content/drive\n"
          ],
          "name": "stdout"
        }
      ]
    },
    {
      "cell_type": "code",
      "metadata": {
        "id": "5H_3eJdgdXKs",
        "colab_type": "code",
        "colab": {}
      },
      "source": [
        "ColDTypes = {\n",
        "          'id':'category',\n",
        "          \n",
        "          \"item_id\":\"int16\",  \n",
        "          \"dept_id\":\"int8\",\n",
        "          \"store_id\":\"int8\",\n",
        "          \"cat_id\":\"int8\", \n",
        "          \"state_id\":\"int8\",\n",
        "\n",
        "\n",
        "          \"sales\":\"float32\",\n",
        "\n",
        "\n",
        "          \"wm_yr_wk\":\"int16\",\n",
        "          \"weekday\":\"int8\",  \n",
        "          \"wday\":\"int8\", \n",
        "          \"month\":\"int8\",  \n",
        "          \"year\":\"int16\",\n",
        "          \"quarter\":\"int8\", \n",
        "\n",
        "\n",
        "          \"event_name_1\":\"int16\",  \n",
        "          \"event_type_1\":\"int16\",  \n",
        "          \"event_name_2\":\"int16\",  \n",
        "          \"event_type_2\":\"int16\", \n",
        "\n",
        "          \"snap_CA\":\"float16\",\n",
        "          \"snap_TX\":\"float16\",\n",
        "          \"snap_WI\":\"float16\",\n",
        "\n",
        "          \"sell_price\":\"float16\",\n",
        "          \"price_momentum\":\"float16\",\n",
        "          \"price_momentum_m\":\"float16\",\n",
        "\n",
        "\n",
        "\n",
        "          \"lag_7\":\"float16\",\n",
        "          \"lag_28\":\"float16\",\n",
        "          \"rmean_7_7\":\"float16\",\n",
        "          \"rmean_28_7\":\"float16\",\n",
        "          \"rmean_7_28\":\"float16\",\n",
        "          \"rmean_28_28\":\"float16\",\n",
        "}\n"
      ],
      "execution_count": null,
      "outputs": []
    },
    {
      "cell_type": "code",
      "metadata": {
        "id": "lp0gLfFtTxw1",
        "colab_type": "code",
        "colab": {
          "base_uri": "https://localhost:8080/",
          "height": 395
        },
        "outputId": "84db8608-4eed-4a4a-b671-d4fb6d7ab167"
      },
      "source": [
        "master= pd.read_csv('/content/drive/My Drive/Colab Notebooks/Content/DSF-Final.csv',dtype = ColDTypes)\n"
      ],
      "execution_count": null,
      "outputs": [
        {
          "output_type": "error",
          "ename": "FileNotFoundError",
          "evalue": "ignored",
          "traceback": [
            "\u001b[0;31m---------------------------------------------------------------------------\u001b[0m",
            "\u001b[0;31mFileNotFoundError\u001b[0m                         Traceback (most recent call last)",
            "\u001b[0;32m<ipython-input-5-3f87c90b539d>\u001b[0m in \u001b[0;36m<module>\u001b[0;34m()\u001b[0m\n\u001b[0;32m----> 1\u001b[0;31m \u001b[0mmaster\u001b[0m\u001b[0;34m=\u001b[0m \u001b[0mpd\u001b[0m\u001b[0;34m.\u001b[0m\u001b[0mread_csv\u001b[0m\u001b[0;34m(\u001b[0m\u001b[0;34m'/content/drive/Partagés avec moi/Projet_Kaggle_Walmart/notebook/Content/DSF-Final.csv'\u001b[0m\u001b[0;34m,\u001b[0m\u001b[0mdtype\u001b[0m \u001b[0;34m=\u001b[0m \u001b[0mColDTypes\u001b[0m\u001b[0;34m)\u001b[0m\u001b[0;34m\u001b[0m\u001b[0;34m\u001b[0m\u001b[0m\n\u001b[0m",
            "\u001b[0;32m/usr/local/lib/python3.6/dist-packages/pandas/io/parsers.py\u001b[0m in \u001b[0;36mparser_f\u001b[0;34m(filepath_or_buffer, sep, delimiter, header, names, index_col, usecols, squeeze, prefix, mangle_dupe_cols, dtype, engine, converters, true_values, false_values, skipinitialspace, skiprows, skipfooter, nrows, na_values, keep_default_na, na_filter, verbose, skip_blank_lines, parse_dates, infer_datetime_format, keep_date_col, date_parser, dayfirst, cache_dates, iterator, chunksize, compression, thousands, decimal, lineterminator, quotechar, quoting, doublequote, escapechar, comment, encoding, dialect, error_bad_lines, warn_bad_lines, delim_whitespace, low_memory, memory_map, float_precision)\u001b[0m\n\u001b[1;32m    674\u001b[0m         )\n\u001b[1;32m    675\u001b[0m \u001b[0;34m\u001b[0m\u001b[0m\n\u001b[0;32m--> 676\u001b[0;31m         \u001b[0;32mreturn\u001b[0m \u001b[0m_read\u001b[0m\u001b[0;34m(\u001b[0m\u001b[0mfilepath_or_buffer\u001b[0m\u001b[0;34m,\u001b[0m \u001b[0mkwds\u001b[0m\u001b[0;34m)\u001b[0m\u001b[0;34m\u001b[0m\u001b[0;34m\u001b[0m\u001b[0m\n\u001b[0m\u001b[1;32m    677\u001b[0m \u001b[0;34m\u001b[0m\u001b[0m\n\u001b[1;32m    678\u001b[0m     \u001b[0mparser_f\u001b[0m\u001b[0;34m.\u001b[0m\u001b[0m__name__\u001b[0m \u001b[0;34m=\u001b[0m \u001b[0mname\u001b[0m\u001b[0;34m\u001b[0m\u001b[0;34m\u001b[0m\u001b[0m\n",
            "\u001b[0;32m/usr/local/lib/python3.6/dist-packages/pandas/io/parsers.py\u001b[0m in \u001b[0;36m_read\u001b[0;34m(filepath_or_buffer, kwds)\u001b[0m\n\u001b[1;32m    446\u001b[0m \u001b[0;34m\u001b[0m\u001b[0m\n\u001b[1;32m    447\u001b[0m     \u001b[0;31m# Create the parser.\u001b[0m\u001b[0;34m\u001b[0m\u001b[0;34m\u001b[0m\u001b[0;34m\u001b[0m\u001b[0m\n\u001b[0;32m--> 448\u001b[0;31m     \u001b[0mparser\u001b[0m \u001b[0;34m=\u001b[0m \u001b[0mTextFileReader\u001b[0m\u001b[0;34m(\u001b[0m\u001b[0mfp_or_buf\u001b[0m\u001b[0;34m,\u001b[0m \u001b[0;34m**\u001b[0m\u001b[0mkwds\u001b[0m\u001b[0;34m)\u001b[0m\u001b[0;34m\u001b[0m\u001b[0;34m\u001b[0m\u001b[0m\n\u001b[0m\u001b[1;32m    449\u001b[0m \u001b[0;34m\u001b[0m\u001b[0m\n\u001b[1;32m    450\u001b[0m     \u001b[0;32mif\u001b[0m \u001b[0mchunksize\u001b[0m \u001b[0;32mor\u001b[0m \u001b[0miterator\u001b[0m\u001b[0;34m:\u001b[0m\u001b[0;34m\u001b[0m\u001b[0;34m\u001b[0m\u001b[0m\n",
            "\u001b[0;32m/usr/local/lib/python3.6/dist-packages/pandas/io/parsers.py\u001b[0m in \u001b[0;36m__init__\u001b[0;34m(self, f, engine, **kwds)\u001b[0m\n\u001b[1;32m    878\u001b[0m             \u001b[0mself\u001b[0m\u001b[0;34m.\u001b[0m\u001b[0moptions\u001b[0m\u001b[0;34m[\u001b[0m\u001b[0;34m\"has_index_names\"\u001b[0m\u001b[0;34m]\u001b[0m \u001b[0;34m=\u001b[0m \u001b[0mkwds\u001b[0m\u001b[0;34m[\u001b[0m\u001b[0;34m\"has_index_names\"\u001b[0m\u001b[0;34m]\u001b[0m\u001b[0;34m\u001b[0m\u001b[0;34m\u001b[0m\u001b[0m\n\u001b[1;32m    879\u001b[0m \u001b[0;34m\u001b[0m\u001b[0m\n\u001b[0;32m--> 880\u001b[0;31m         \u001b[0mself\u001b[0m\u001b[0;34m.\u001b[0m\u001b[0m_make_engine\u001b[0m\u001b[0;34m(\u001b[0m\u001b[0mself\u001b[0m\u001b[0;34m.\u001b[0m\u001b[0mengine\u001b[0m\u001b[0;34m)\u001b[0m\u001b[0;34m\u001b[0m\u001b[0;34m\u001b[0m\u001b[0m\n\u001b[0m\u001b[1;32m    881\u001b[0m \u001b[0;34m\u001b[0m\u001b[0m\n\u001b[1;32m    882\u001b[0m     \u001b[0;32mdef\u001b[0m \u001b[0mclose\u001b[0m\u001b[0;34m(\u001b[0m\u001b[0mself\u001b[0m\u001b[0;34m)\u001b[0m\u001b[0;34m:\u001b[0m\u001b[0;34m\u001b[0m\u001b[0;34m\u001b[0m\u001b[0m\n",
            "\u001b[0;32m/usr/local/lib/python3.6/dist-packages/pandas/io/parsers.py\u001b[0m in \u001b[0;36m_make_engine\u001b[0;34m(self, engine)\u001b[0m\n\u001b[1;32m   1112\u001b[0m     \u001b[0;32mdef\u001b[0m \u001b[0m_make_engine\u001b[0m\u001b[0;34m(\u001b[0m\u001b[0mself\u001b[0m\u001b[0;34m,\u001b[0m \u001b[0mengine\u001b[0m\u001b[0;34m=\u001b[0m\u001b[0;34m\"c\"\u001b[0m\u001b[0;34m)\u001b[0m\u001b[0;34m:\u001b[0m\u001b[0;34m\u001b[0m\u001b[0;34m\u001b[0m\u001b[0m\n\u001b[1;32m   1113\u001b[0m         \u001b[0;32mif\u001b[0m \u001b[0mengine\u001b[0m \u001b[0;34m==\u001b[0m \u001b[0;34m\"c\"\u001b[0m\u001b[0;34m:\u001b[0m\u001b[0;34m\u001b[0m\u001b[0;34m\u001b[0m\u001b[0m\n\u001b[0;32m-> 1114\u001b[0;31m             \u001b[0mself\u001b[0m\u001b[0;34m.\u001b[0m\u001b[0m_engine\u001b[0m \u001b[0;34m=\u001b[0m \u001b[0mCParserWrapper\u001b[0m\u001b[0;34m(\u001b[0m\u001b[0mself\u001b[0m\u001b[0;34m.\u001b[0m\u001b[0mf\u001b[0m\u001b[0;34m,\u001b[0m \u001b[0;34m**\u001b[0m\u001b[0mself\u001b[0m\u001b[0;34m.\u001b[0m\u001b[0moptions\u001b[0m\u001b[0;34m)\u001b[0m\u001b[0;34m\u001b[0m\u001b[0;34m\u001b[0m\u001b[0m\n\u001b[0m\u001b[1;32m   1115\u001b[0m         \u001b[0;32melse\u001b[0m\u001b[0;34m:\u001b[0m\u001b[0;34m\u001b[0m\u001b[0;34m\u001b[0m\u001b[0m\n\u001b[1;32m   1116\u001b[0m             \u001b[0;32mif\u001b[0m \u001b[0mengine\u001b[0m \u001b[0;34m==\u001b[0m \u001b[0;34m\"python\"\u001b[0m\u001b[0;34m:\u001b[0m\u001b[0;34m\u001b[0m\u001b[0;34m\u001b[0m\u001b[0m\n",
            "\u001b[0;32m/usr/local/lib/python3.6/dist-packages/pandas/io/parsers.py\u001b[0m in \u001b[0;36m__init__\u001b[0;34m(self, src, **kwds)\u001b[0m\n\u001b[1;32m   1889\u001b[0m         \u001b[0mkwds\u001b[0m\u001b[0;34m[\u001b[0m\u001b[0;34m\"usecols\"\u001b[0m\u001b[0;34m]\u001b[0m \u001b[0;34m=\u001b[0m \u001b[0mself\u001b[0m\u001b[0;34m.\u001b[0m\u001b[0musecols\u001b[0m\u001b[0;34m\u001b[0m\u001b[0;34m\u001b[0m\u001b[0m\n\u001b[1;32m   1890\u001b[0m \u001b[0;34m\u001b[0m\u001b[0m\n\u001b[0;32m-> 1891\u001b[0;31m         \u001b[0mself\u001b[0m\u001b[0;34m.\u001b[0m\u001b[0m_reader\u001b[0m \u001b[0;34m=\u001b[0m \u001b[0mparsers\u001b[0m\u001b[0;34m.\u001b[0m\u001b[0mTextReader\u001b[0m\u001b[0;34m(\u001b[0m\u001b[0msrc\u001b[0m\u001b[0;34m,\u001b[0m \u001b[0;34m**\u001b[0m\u001b[0mkwds\u001b[0m\u001b[0;34m)\u001b[0m\u001b[0;34m\u001b[0m\u001b[0;34m\u001b[0m\u001b[0m\n\u001b[0m\u001b[1;32m   1892\u001b[0m         \u001b[0mself\u001b[0m\u001b[0;34m.\u001b[0m\u001b[0munnamed_cols\u001b[0m \u001b[0;34m=\u001b[0m \u001b[0mself\u001b[0m\u001b[0;34m.\u001b[0m\u001b[0m_reader\u001b[0m\u001b[0;34m.\u001b[0m\u001b[0munnamed_cols\u001b[0m\u001b[0;34m\u001b[0m\u001b[0;34m\u001b[0m\u001b[0m\n\u001b[1;32m   1893\u001b[0m \u001b[0;34m\u001b[0m\u001b[0m\n",
            "\u001b[0;32mpandas/_libs/parsers.pyx\u001b[0m in \u001b[0;36mpandas._libs.parsers.TextReader.__cinit__\u001b[0;34m()\u001b[0m\n",
            "\u001b[0;32mpandas/_libs/parsers.pyx\u001b[0m in \u001b[0;36mpandas._libs.parsers.TextReader._setup_parser_source\u001b[0;34m()\u001b[0m\n",
            "\u001b[0;31mFileNotFoundError\u001b[0m: [Errno 2] File /content/drive/Partagés avec moi/Projet_Kaggle_Walmart/notebook/Content/DSF-Final.csv does not exist: '/content/drive/Partagés avec moi/Projet_Kaggle_Walmart/notebook/Content/DSF-Final.csv'"
          ]
        }
      ]
    },
    {
      "cell_type": "code",
      "metadata": {
        "id": "5Fzb48EztOs6",
        "colab_type": "code",
        "colab": {
          "base_uri": "https://localhost:8080/",
          "height": 34
        },
        "outputId": "15bef842-a9a1-48b9-ea99-e0e33dbc297b"
      },
      "source": [
        "master = master.loc[(master.store_id == 1) ]\n",
        "gc.collect()"
      ],
      "execution_count": null,
      "outputs": [
        {
          "output_type": "execute_result",
          "data": {
            "text/plain": [
              "47"
            ]
          },
          "metadata": {
            "tags": []
          },
          "execution_count": 7
        }
      ]
    },
    {
      "cell_type": "code",
      "metadata": {
        "id": "Yi1crFiQz3su",
        "colab_type": "code",
        "colab": {
          "base_uri": "https://localhost:8080/",
          "height": 714
        },
        "outputId": "be5a6244-7770-4d9f-db27-b136c52a5bb4"
      },
      "source": [
        "master.info(memory_usage='deep')"
      ],
      "execution_count": null,
      "outputs": [
        {
          "output_type": "stream",
          "text": [
            "<class 'pandas.core.frame.DataFrame'>\n",
            "Int64Index: 3042071 entries, 14238 to 32327331\n",
            "Data columns (total 34 columns):\n",
            " #   Column            Dtype   \n",
            "---  ------            -----   \n",
            " 0   Unnamed: 0        int64   \n",
            " 1   id                category\n",
            " 2   item_id           int16   \n",
            " 3   dept_id           int8    \n",
            " 4   store_id          int8    \n",
            " 5   cat_id            int8    \n",
            " 6   state_id          int8    \n",
            " 7   d                 object  \n",
            " 8   sales             float32 \n",
            " 9   date              object  \n",
            " 10  wm_yr_wk          int16   \n",
            " 11  weekday           int8    \n",
            " 12  wday              int8    \n",
            " 13  month             int8    \n",
            " 14  year              int16   \n",
            " 15  event_name_1      int16   \n",
            " 16  event_type_1      int16   \n",
            " 17  event_name_2      int16   \n",
            " 18  event_type_2      int16   \n",
            " 19  snap_CA           float16 \n",
            " 20  snap_TX           float16 \n",
            " 21  snap_WI           float16 \n",
            " 22  sell_price        float16 \n",
            " 23  price_mean        float64 \n",
            " 24  price_momentum    float16 \n",
            " 25  price_momentum_m  float16 \n",
            " 26  price_momentum_y  float64 \n",
            " 27  lag_7             float16 \n",
            " 28  lag_28            float16 \n",
            " 29  rmean_7_7         float16 \n",
            " 30  rmean_28_7        float16 \n",
            " 31  rmean_7_28        float16 \n",
            " 32  rmean_28_28       float16 \n",
            " 33  quarter           int8    \n",
            "dtypes: category(1), float16(12), float32(1), float64(2), int16(7), int64(1), int8(8), object(2)\n",
            "memory usage: 624.2 MB\n"
          ],
          "name": "stdout"
        }
      ]
    },
    {
      "cell_type": "code",
      "metadata": {
        "id": "B_JSys50HfO3",
        "colab_type": "code",
        "colab": {}
      },
      "source": [
        "unusedCols = [\"Unnamed: 0\",\n",
        "              \"wm_yr_wk\",\n",
        "              \"quarter\",\n",
        "              \"event_type_2\",\n",
        "              \"event_type_1\",\n",
        "              \"state_id\",\n",
        "              \"store_id\",\n",
        "              'd'\n",
        "              ]\n",
        "\n",
        "master = master.drop(unusedCols, axis=1)"
      ],
      "execution_count": null,
      "outputs": []
    },
    {
      "cell_type": "code",
      "metadata": {
        "id": "fTdtxNAB-SSX",
        "colab_type": "code",
        "colab": {}
      },
      "source": [
        "submission = pd.read_csv('/content/drive/My Drive/Colab Notebooks/Content/sample_submission.csv')"
      ],
      "execution_count": null,
      "outputs": []
    },
    {
      "cell_type": "code",
      "metadata": {
        "id": "WFVhSBp5GEBw",
        "colab_type": "code",
        "colab": {}
      },
      "source": [
        ""
      ],
      "execution_count": null,
      "outputs": []
    },
    {
      "cell_type": "code",
      "metadata": {
        "id": "u8eBwrvH50fz",
        "colab_type": "code",
        "colab": {}
      },
      "source": [
        "def train_test_split(data):\n",
        "     \n",
        "    # going to evaluate with the last 28 days\n",
        "    x_train = data[data['date'] <= '2016-03-27']\n",
        "    y_train = x_train['sales']\n",
        "    x_val = data[(data['date'] > '2016-03-27') & (data['date'] <= '2016-04-24')]\n",
        "    y_val = x_val['sales']\n",
        "    test = data[(data['date'] > '2016-04-24')]\n",
        "    del data\n",
        "    gc.collect()\n",
        "    return x_train, y_train, x_val, y_val, test\n",
        "x_train, y_train, x_val, y_val, test= train_test_split(master)"
      ],
      "execution_count": null,
      "outputs": []
    },
    {
      "cell_type": "code",
      "metadata": {
        "id": "P0WyIY106Al_",
        "colab_type": "code",
        "colab": {}
      },
      "source": [
        "def run_lgb(x_train, y_train, x_val, y_val, test):\n",
        "    \n",
        "\n",
        "    params = {\n",
        "        \"objective\" : \"poisson\",\n",
        "        \"metric\" :\"rmse\",\n",
        "        \"force_row_wise\" : True,\n",
        "        \"learning_rate\" : 0.075,\n",
        "#         \"sub_feature\" : 0.8,\n",
        "        \"sub_row\" : 0.75,\n",
        "        \"bagging_freq\" : 1,\n",
        "        \"lambda_l2\" : 0.1,\n",
        "#         \"nthread\" : 4\n",
        "        \"metric\": [\"rmse\"],\n",
        "         'verbosity': 1,\n",
        "    'num_iterations' : 1000,\n",
        "    'num_leaves': 128,\n",
        "    \"min_data_in_leaf\": 100,\n",
        "    \n",
        "}\n",
        "\n",
        "    evals_result = {}\n",
        "\n",
        "    train_set = lgb.Dataset(x_train[features], y_train)\n",
        "    val_set = lgb.Dataset(x_val[features], y_val)\n",
        "    \n",
        "    del x_train, y_train\n",
        "    catFeats = [\n",
        "                'item_id',\n",
        "                'dept_id',\n",
        "                #'store_id',\n",
        "                'cat_id',\n",
        "                #'state_id'\n",
        "                ] + \\\n",
        "              [\"event_name_1\",\n",
        "               \"event_name_2\",\n",
        "               \"event_type_1\",\n",
        "              \"event_type_2\"\n",
        "               ]  \n",
        "    \n",
        "    \n",
        "    model = lgb.train(params, train_set, categorical_feature = catFeats,early_stopping_rounds = 200, valid_sets = [train_set, val_set], verbose_eval = 10,\\\n",
        "                       evals_result=evals_result)\n",
        "    \n",
        "    ax = lgb.plot_metric(evals_result)\n",
        "    plt.show()\n",
        "\n",
        "    lgb.plot_importance(model, importance_type=\"gain\", precision=0, figsize=(6, 13));\n",
        "    lgb.plot_importance(model, importance_type=\"split\", precision=0, figsize=(6, 13));\n",
        "\n",
        "    val_pred = model.predict(x_val[features], num_iteration=model.best_iteration)\n",
        "    val_score = np.sqrt(metrics.mean_squared_error(val_pred, y_val))\n",
        "    print(f'Our val rmse score is {val_score}')\n",
        "\n",
        "    #y_pred = model.predict(test[features], num_iteration=model.best_iteration)\n",
        "    #test['value'] = y_pred\n",
        "    #del y_pred \n",
        "    #gc.collect()\n",
        "    return test, model"
      ],
      "execution_count": null,
      "outputs": []
    },
    {
      "cell_type": "markdown",
      "metadata": {
        "id": "ZtW-9VDJC5IV",
        "colab_type": "text"
      },
      "source": [
        "Gain is the improvement in accuracy brought by a feature to the branches it is on.It implies the relative contribution of the corresponding feature to the model calculated by taking each feature’s contribution for each tree in the model.\n",
        "\n",
        "Split the number of times a feature is used to split the data across all trees"
      ]
    },
    {
      "cell_type": "code",
      "metadata": {
        "id": "s_jtQZhB6lD0",
        "colab_type": "code",
        "colab": {}
      },
      "source": [
        "features = [\n",
        "            \n",
        "      \n",
        "    \"item_id\",\n",
        "    \"dept_id\",\n",
        "    \"cat_id\",\n",
        "    #\"store_id\",\n",
        "    #\"state_id\",\n",
        "\n",
        "    #event\n",
        "    \"event_name_1\",\n",
        "    \"event_name_2\",\n",
        "    #\"event_type_1\",\n",
        "    #\"event_type_2\",\n",
        "                  \n",
        "    \"weekday\",                   \n",
        "    \"wday\",                     \n",
        "    \"month\",                        \n",
        "    \"year\",\n",
        "    #\"mday\",\n",
        "    #\"week\",\n",
        "\n",
        "    \"snap_CA\",                  \n",
        "    \"snap_TX\",                    \n",
        "    \"snap_WI\",                   \n",
        "\n",
        "\n",
        "    \"sell_price\",                 \n",
        "                \n",
        "    \"price_mean\",                 \n",
        "    #\"price_momentum\",             \n",
        "    \"price_momentum_m\",           \n",
        "        \n",
        "    \"lag_7\",                      \n",
        "    \"lag_28\",                     \n",
        "    \"rmean_7_7\",                  \n",
        "    \"rmean_28_7\",                 \n",
        "    \"rmean_7_28\",                 \n",
        "    \"rmean_28_28\",                \n",
        "                             \n",
        "]\n",
        "\n",
        "\n",
        "\n",
        "\n"
      ],
      "execution_count": null,
      "outputs": []
    },
    {
      "cell_type": "code",
      "metadata": {
        "id": "Cg5pTtzPplp2",
        "colab_type": "code",
        "colab": {
          "base_uri": "https://localhost:8080/",
          "height": 595
        },
        "outputId": "8b6654ab-8eef-4dd3-a603-be4d8507f94f"
      },
      "source": [
        "master.info()"
      ],
      "execution_count": null,
      "outputs": [
        {
          "output_type": "stream",
          "text": [
            "<class 'pandas.core.frame.DataFrame'>\n",
            "Int64Index: 29107374 entries, 14238 to 32376115\n",
            "Data columns (total 27 columns):\n",
            " #   Column            Dtype   \n",
            "---  ------            -----   \n",
            " 0   id                category\n",
            " 1   item_id           int16   \n",
            " 2   dept_id           int8    \n",
            " 3   cat_id            int8    \n",
            " 4   d                 object  \n",
            " 5   sales             float32 \n",
            " 6   date              object  \n",
            " 7   weekday           int8    \n",
            " 8   wday              int8    \n",
            " 9   month             int8    \n",
            " 10  year              int16   \n",
            " 11  event_name_1      int16   \n",
            " 12  event_name_2      int16   \n",
            " 13  snap_CA           float16 \n",
            " 14  snap_TX           float16 \n",
            " 15  snap_WI           float16 \n",
            " 16  sell_price        float16 \n",
            " 17  price_mean        float64 \n",
            " 18  price_momentum    float16 \n",
            " 19  price_momentum_m  float16 \n",
            " 20  price_momentum_y  float64 \n",
            " 21  lag_7             float16 \n",
            " 22  lag_28            float16 \n",
            " 23  rmean_7_7         float16 \n",
            " 24  rmean_28_7        float16 \n",
            " 25  rmean_7_28        float16 \n",
            " 26  rmean_28_28       float16 \n",
            "dtypes: category(1), float16(12), float32(1), float64(2), int16(4), int8(5), object(2)\n",
            "memory usage: 2.3+ GB\n"
          ],
          "name": "stdout"
        }
      ]
    },
    {
      "cell_type": "code",
      "metadata": {
        "id": "yQv5DfRVD3Ns",
        "colab_type": "code",
        "colab": {
          "base_uri": "https://localhost:8080/",
          "height": 34
        },
        "outputId": "af25d4d4-6192-4b11-fce7-eae204485982"
      },
      "source": [
        "gc.collect()"
      ],
      "execution_count": null,
      "outputs": [
        {
          "output_type": "execute_result",
          "data": {
            "text/plain": [
              "112"
            ]
          },
          "metadata": {
            "tags": []
          },
          "execution_count": 38
        }
      ]
    },
    {
      "cell_type": "code",
      "metadata": {
        "id": "zKIMSl6g6lm1",
        "colab_type": "code",
        "colab": {
          "base_uri": "https://localhost:8080/",
          "height": 1000
        },
        "outputId": "d8bf03f3-b7bf-4d87-d901-46a11a4042f2"
      },
      "source": [
        " %%time\n",
        " test, model= run_lgb(x_train, y_train, x_val, y_val, test)"
      ],
      "execution_count": null,
      "outputs": [
        {
          "output_type": "stream",
          "text": [
            "/usr/local/lib/python3.6/dist-packages/lightgbm/engine.py:118: UserWarning: Found `num_iterations` in params. Will use it instead of argument\n",
            "  warnings.warn(\"Found `{}` in params. Will use it instead of argument\".format(alias))\n",
            "/usr/local/lib/python3.6/dist-packages/lightgbm/basic.py:1209: UserWarning: categorical_feature in Dataset is overridden.\n",
            "New categorical_feature is ['cat_id', 'dept_id', 'event_name_1', 'event_name_2', 'item_id']\n",
            "  'New categorical_feature is {}'.format(sorted(list(categorical_feature))))\n",
            "/usr/local/lib/python3.6/dist-packages/lightgbm/basic.py:762: UserWarning: categorical_feature in param dict is overridden.\n",
            "  warnings.warn('categorical_feature in param dict is overridden.')\n"
          ],
          "name": "stderr"
        },
        {
          "output_type": "stream",
          "text": [
            "Training until validation scores don't improve for 200 rounds.\n",
            "Did not meet early stopping. Best iteration is:\n",
            "[1]\ttraining's rmse: 2.82229\tvalid_1's rmse: 3.00223\n"
          ],
          "name": "stdout"
        },
        {
          "output_type": "display_data",
          "data": {
            "image/png": "[encoded data removed]",
            "text/plain": [
              "<Figure size 432x288 with 1 Axes>"
            ]
          },
          "metadata": {
            "tags": [],
            "needs_background": "light"
          }
        },
        {
          "output_type": "stream",
          "text": [
            "Our val rmse score is 3.002225242024343\n",
            "CPU times: user 6.26 s, sys: 67.4 ms, total: 6.33 s\n",
            "Wall time: 3.69 s\n"
          ],
          "name": "stdout"
        },
        {
          "output_type": "display_data",
          "data": {
            "image/png": "[encoded data removed]",
            "text/plain": [
              "<Figure size 432x936 with 1 Axes>"
            ]
          },
          "metadata": {
            "tags": [],
            "needs_background": "light"
          }
        },
        {
          "output_type": "display_data",
          "data": {
            "image/png": "[encoded data removed]",
            "text/plain": [
              "<Figure size 432x936 with 1 Axes>"
            ]
          },
          "metadata": {
            "tags": [],
            "needs_background": "light"
          }
        }
      ]
    },
    {
      "cell_type": "code",
      "metadata": {
        "id": "wKivbnEs5W3H",
        "colab_type": "code",
        "colab": {}
      },
      "source": [
        "master[\"date\"] = pd.to_datetime(master[\"date\"])"
      ],
      "execution_count": null,
      "outputs": []
    },
    {
      "cell_type": "code",
      "metadata": {
        "id": "GjInZTvHTkxE",
        "colab_type": "code",
        "colab": {
          "base_uri": "https://localhost:8080/",
          "height": 1000
        },
        "outputId": "87195014-d7db-4328-f496-7f7eb512a717"
      },
      "source": [
        "# Last day used for training\n",
        "trLast = 1941\n",
        "# Maximum lag day\n",
        "maxLags = 57\n",
        "\n",
        "fday = datetime(2016,4, 25) \n",
        "alphas = [1.028, 1.023, 1.018]\n",
        "weights = [1/len(alphas)] * len(alphas)\n",
        "sub = 0.\n",
        "\n",
        "for icount, (alpha, weight) in enumerate(zip(alphas, weights)):\n",
        "\n",
        "    #te = create_ds() ca c'est mon master\n",
        "    cols = [f\"F{i}\" for i in range(1,29)]\n",
        "\n",
        "    for tdelta in range(0, 28):\n",
        "        day = fday + timedelta(days=tdelta)\n",
        "        print(tdelta, day)\n",
        "        tst = master[(master['date'] >= day - timedelta(days=maxLags)) & (master['date'] <= day)].copy()\n",
        "        #create_features(tst)\n",
        "        tst = tst.loc[tst['date'] == day , features]\n",
        "        master.loc[master['date'] == day, \"sales\"] = alpha * model.predict(tst) # magic multiplier by kyakovlev\n",
        "\n",
        "    te_sub = master.loc[master['date'] >= fday, [\"id\", \"sales\"]].copy()\n",
        "    te_sub[\"F\"] = [f\"F{rank}\" for rank in te_sub.groupby(\"id\")[\"id\"].cumcount()+1]\n",
        "    te_sub = te_sub.set_index([\"id\", \"F\" ]).unstack()[\"sales\"][cols].reset_index()\n",
        "    #te_sub.fillna(0., inplace = True)\n",
        "    te_sub.sort_values(\"id\", inplace = True)\n",
        "    te_sub.reset_index(drop=True, inplace = True)\n",
        "    te_sub.to_csv(f\"submission_{icount}.csv\",index=False)\n",
        "    if icount == 0 :\n",
        "        sub = te_sub\n",
        "        sub[cols] *= weight\n",
        "    else:\n",
        "        sub[cols] += te_sub[cols]*weight\n",
        "    print(icount, alpha, weight)\n",
        "\n",
        "\n",
        "sub2 = sub.copy()\n",
        "sub[\"id\"] = sub[\"id\"].str.replace(\"evaluation\", \"validation\")\n",
        "sub = pd.concat([sub, sub2], axis=0, sort=False)\n",
        "sub\n",
        "sub.to_csv(\"/content/drive/My Drive/Colab Notebooks/Output/Final-LGBM-Store1.csv\",index=False)"
      ],
      "execution_count": null,
      "outputs": [
        {
          "output_type": "stream",
          "text": [
            "0 2016-04-25 00:00:00\n",
            "1 2016-04-26 00:00:00\n",
            "2 2016-04-27 00:00:00\n",
            "3 2016-04-28 00:00:00\n",
            "4 2016-04-29 00:00:00\n",
            "5 2016-04-30 00:00:00\n",
            "6 2016-05-01 00:00:00\n",
            "7 2016-05-02 00:00:00\n",
            "8 2016-05-03 00:00:00\n",
            "9 2016-05-04 00:00:00\n",
            "10 2016-05-05 00:00:00\n",
            "11 2016-05-06 00:00:00\n",
            "12 2016-05-07 00:00:00\n",
            "13 2016-05-08 00:00:00\n",
            "14 2016-05-09 00:00:00\n",
            "15 2016-05-10 00:00:00\n",
            "16 2016-05-11 00:00:00\n",
            "17 2016-05-12 00:00:00\n",
            "18 2016-05-13 00:00:00\n",
            "19 2016-05-14 00:00:00\n",
            "20 2016-05-15 00:00:00\n",
            "21 2016-05-16 00:00:00\n",
            "22 2016-05-17 00:00:00\n",
            "23 2016-05-18 00:00:00\n",
            "24 2016-05-19 00:00:00\n",
            "25 2016-05-20 00:00:00\n",
            "26 2016-05-21 00:00:00\n",
            "27 2016-05-22 00:00:00\n",
            "0 1.028 0.3333333333333333\n",
            "0 2016-04-25 00:00:00\n",
            "1 2016-04-26 00:00:00\n",
            "2 2016-04-27 00:00:00\n",
            "3 2016-04-28 00:00:00\n",
            "4 2016-04-29 00:00:00\n",
            "5 2016-04-30 00:00:00\n",
            "6 2016-05-01 00:00:00\n",
            "7 2016-05-02 00:00:00\n",
            "8 2016-05-03 00:00:00\n",
            "9 2016-05-04 00:00:00\n",
            "10 2016-05-05 00:00:00\n",
            "11 2016-05-06 00:00:00\n",
            "12 2016-05-07 00:00:00\n",
            "13 2016-05-08 00:00:00\n",
            "14 2016-05-09 00:00:00\n",
            "15 2016-05-10 00:00:00\n",
            "16 2016-05-11 00:00:00\n",
            "17 2016-05-12 00:00:00\n",
            "18 2016-05-13 00:00:00\n",
            "19 2016-05-14 00:00:00\n",
            "20 2016-05-15 00:00:00\n",
            "21 2016-05-16 00:00:00\n",
            "22 2016-05-17 00:00:00\n",
            "23 2016-05-18 00:00:00\n",
            "24 2016-05-19 00:00:00\n",
            "25 2016-05-20 00:00:00\n",
            "26 2016-05-21 00:00:00\n",
            "27 2016-05-22 00:00:00\n",
            "1 1.023 0.3333333333333333\n",
            "0 2016-04-25 00:00:00\n",
            "1 2016-04-26 00:00:00\n",
            "2 2016-04-27 00:00:00\n",
            "3 2016-04-28 00:00:00\n",
            "4 2016-04-29 00:00:00\n",
            "5 2016-04-30 00:00:00\n",
            "6 2016-05-01 00:00:00\n",
            "7 2016-05-02 00:00:00\n",
            "8 2016-05-03 00:00:00\n",
            "9 2016-05-04 00:00:00\n",
            "10 2016-05-05 00:00:00\n",
            "11 2016-05-06 00:00:00\n",
            "12 2016-05-07 00:00:00\n",
            "13 2016-05-08 00:00:00\n",
            "14 2016-05-09 00:00:00\n",
            "15 2016-05-10 00:00:00\n",
            "16 2016-05-11 00:00:00\n",
            "17 2016-05-12 00:00:00\n",
            "18 2016-05-13 00:00:00\n",
            "19 2016-05-14 00:00:00\n",
            "20 2016-05-15 00:00:00\n",
            "21 2016-05-16 00:00:00\n",
            "22 2016-05-17 00:00:00\n",
            "23 2016-05-18 00:00:00\n",
            "24 2016-05-19 00:00:00\n",
            "25 2016-05-20 00:00:00\n",
            "26 2016-05-21 00:00:00\n",
            "27 2016-05-22 00:00:00\n",
            "2 1.018 0.3333333333333333\n"
          ],
          "name": "stdout"
        }
      ]
    },
    {
      "cell_type": "code",
      "metadata": {
        "id": "NoYBi6mN1J3F",
        "colab_type": "code",
        "colab": {}
      },
      "source": [
        ""
      ],
      "execution_count": null,
      "outputs": []
    }
  ]
}